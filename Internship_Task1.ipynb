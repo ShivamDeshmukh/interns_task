{
  "nbformat": 4,
  "nbformat_minor": 0,
  "metadata": {
    "colab": {
      "name": "Internship_Task1.ipynb",
      "provenance": [],
      "collapsed_sections": []
    },
    "kernelspec": {
      "name": "python3",
      "display_name": "Python 3"
    }
  },
  "cells": [
    {
      "cell_type": "markdown",
      "metadata": {
        "id": "SZwJ6AfBX_63"
      },
      "source": [
        "#**Internship Task1**"
      ]
    },
    {
      "cell_type": "code",
      "metadata": {
        "id": "60gMkNxUVE50"
      },
      "source": [
        "import pandas as pd\n",
        "import numpy as np\n",
        "import matplotlib.pyplot as plt\n",
        "%matplotlib inline\n",
        "import seaborn as sns\n"
      ],
      "execution_count": 1,
      "outputs": []
    },
    {
      "cell_type": "code",
      "metadata": {
        "id": "2cAxK9Z1Wfhh",
        "outputId": "ab909842-a061-45e2-a4bd-43de019f8cb0",
        "colab": {
          "base_uri": "https://localhost:8080/",
          "height": 34
        }
      },
      "source": [
        "dataset = pd.read_csv(\"taskdata.csv\")\n",
        "print(dataset.shape)"
      ],
      "execution_count": 2,
      "outputs": [
        {
          "output_type": "stream",
          "text": [
            "(4407, 17)\n"
          ],
          "name": "stdout"
        }
      ]
    },
    {
      "cell_type": "code",
      "metadata": {
        "id": "HLoO9cwsYT7s",
        "outputId": "811b38a9-ecc4-4073-aa4b-06a37b5230e1",
        "colab": {
          "base_uri": "https://localhost:8080/",
          "height": 224
        }
      },
      "source": [
        "dataset.head()"
      ],
      "execution_count": 3,
      "outputs": [
        {
          "output_type": "execute_result",
          "data": {
            "text/html": [
              "<div>\n",
              "<style scoped>\n",
              "    .dataframe tbody tr th:only-of-type {\n",
              "        vertical-align: middle;\n",
              "    }\n",
              "\n",
              "    .dataframe tbody tr th {\n",
              "        vertical-align: top;\n",
              "    }\n",
              "\n",
              "    .dataframe thead th {\n",
              "        text-align: right;\n",
              "    }\n",
              "</style>\n",
              "<table border=\"1\" class=\"dataframe\">\n",
              "  <thead>\n",
              "    <tr style=\"text-align: right;\">\n",
              "      <th></th>\n",
              "      <th>user_id</th>\n",
              "      <th>account_id</th>\n",
              "      <th>max_return_days</th>\n",
              "      <th>average_return_days</th>\n",
              "      <th>customer_since_months</th>\n",
              "      <th>total_revenue</th>\n",
              "      <th>average_revenue</th>\n",
              "      <th>avg_vas_count</th>\n",
              "      <th>avg_used_vas_value</th>\n",
              "      <th>business_type</th>\n",
              "      <th>avg_wallet_bonus</th>\n",
              "      <th>avg_active_ads</th>\n",
              "      <th>avg_new_ads</th>\n",
              "      <th>avg_email_replies</th>\n",
              "      <th>avg_call_replies</th>\n",
              "      <th>avg_sms_replies</th>\n",
              "      <th>target</th>\n",
              "    </tr>\n",
              "  </thead>\n",
              "  <tbody>\n",
              "    <tr>\n",
              "      <th>0</th>\n",
              "      <td>410039</td>\n",
              "      <td>496.0</td>\n",
              "      <td>8</td>\n",
              "      <td>1.500000</td>\n",
              "      <td>14</td>\n",
              "      <td>0.0</td>\n",
              "      <td>0.0</td>\n",
              "      <td>3.666667</td>\n",
              "      <td>66.666667</td>\n",
              "      <td>0</td>\n",
              "      <td>300.0</td>\n",
              "      <td>79.333333</td>\n",
              "      <td>15.250000</td>\n",
              "      <td>32.416667</td>\n",
              "      <td>27.916667</td>\n",
              "      <td>0.250000</td>\n",
              "      <td>0</td>\n",
              "    </tr>\n",
              "    <tr>\n",
              "      <th>1</th>\n",
              "      <td>410240</td>\n",
              "      <td>499.0</td>\n",
              "      <td>37</td>\n",
              "      <td>8.200000</td>\n",
              "      <td>10</td>\n",
              "      <td>0.0</td>\n",
              "      <td>0.0</td>\n",
              "      <td>4.900000</td>\n",
              "      <td>114.000000</td>\n",
              "      <td>0</td>\n",
              "      <td>0.0</td>\n",
              "      <td>232.100000</td>\n",
              "      <td>18.300000</td>\n",
              "      <td>16.200000</td>\n",
              "      <td>13.800000</td>\n",
              "      <td>0.000000</td>\n",
              "      <td>0</td>\n",
              "    </tr>\n",
              "    <tr>\n",
              "      <th>2</th>\n",
              "      <td>411764</td>\n",
              "      <td>493.0</td>\n",
              "      <td>9</td>\n",
              "      <td>1.533333</td>\n",
              "      <td>15</td>\n",
              "      <td>0.0</td>\n",
              "      <td>0.0</td>\n",
              "      <td>5.333333</td>\n",
              "      <td>106.666667</td>\n",
              "      <td>0</td>\n",
              "      <td>150.0</td>\n",
              "      <td>55.083333</td>\n",
              "      <td>3.750000</td>\n",
              "      <td>20.250000</td>\n",
              "      <td>24.500000</td>\n",
              "      <td>0.000000</td>\n",
              "      <td>0</td>\n",
              "    </tr>\n",
              "    <tr>\n",
              "      <th>3</th>\n",
              "      <td>411985</td>\n",
              "      <td>262.0</td>\n",
              "      <td>1</td>\n",
              "      <td>1.000000</td>\n",
              "      <td>14</td>\n",
              "      <td>0.0</td>\n",
              "      <td>0.0</td>\n",
              "      <td>6.307692</td>\n",
              "      <td>176.153846</td>\n",
              "      <td>0</td>\n",
              "      <td>1481.0</td>\n",
              "      <td>409.538462</td>\n",
              "      <td>80.769231</td>\n",
              "      <td>87.461538</td>\n",
              "      <td>57.615385</td>\n",
              "      <td>0.000000</td>\n",
              "      <td>1</td>\n",
              "    </tr>\n",
              "    <tr>\n",
              "      <th>4</th>\n",
              "      <td>412071</td>\n",
              "      <td>496.0</td>\n",
              "      <td>1</td>\n",
              "      <td>1.000000</td>\n",
              "      <td>18</td>\n",
              "      <td>0.0</td>\n",
              "      <td>0.0</td>\n",
              "      <td>5.846154</td>\n",
              "      <td>109.230769</td>\n",
              "      <td>0</td>\n",
              "      <td>41.5</td>\n",
              "      <td>48.230769</td>\n",
              "      <td>1.692308</td>\n",
              "      <td>17.461538</td>\n",
              "      <td>25.769231</td>\n",
              "      <td>0.230769</td>\n",
              "      <td>0</td>\n",
              "    </tr>\n",
              "  </tbody>\n",
              "</table>\n",
              "</div>"
            ],
            "text/plain": [
              "   user_id  account_id  ...  avg_sms_replies  target\n",
              "0   410039       496.0  ...         0.250000       0\n",
              "1   410240       499.0  ...         0.000000       0\n",
              "2   411764       493.0  ...         0.000000       0\n",
              "3   411985       262.0  ...         0.000000       1\n",
              "4   412071       496.0  ...         0.230769       0\n",
              "\n",
              "[5 rows x 17 columns]"
            ]
          },
          "metadata": {
            "tags": []
          },
          "execution_count": 3
        }
      ]
    },
    {
      "cell_type": "markdown",
      "metadata": {
        "id": "smNF5Oy5cHVe"
      },
      "source": [
        "## **Misssing Values**"
      ]
    },
    {
      "cell_type": "code",
      "metadata": {
        "id": "ol9xjwpZ0aU4",
        "outputId": "ec5914bf-6f1b-497c-b52c-e70c0a8ef060",
        "colab": {
          "base_uri": "https://localhost:8080/",
          "height": 439
        }
      },
      "source": [
        "dataset.isnull()"
      ],
      "execution_count": 4,
      "outputs": [
        {
          "output_type": "execute_result",
          "data": {
            "text/html": [
              "<div>\n",
              "<style scoped>\n",
              "    .dataframe tbody tr th:only-of-type {\n",
              "        vertical-align: middle;\n",
              "    }\n",
              "\n",
              "    .dataframe tbody tr th {\n",
              "        vertical-align: top;\n",
              "    }\n",
              "\n",
              "    .dataframe thead th {\n",
              "        text-align: right;\n",
              "    }\n",
              "</style>\n",
              "<table border=\"1\" class=\"dataframe\">\n",
              "  <thead>\n",
              "    <tr style=\"text-align: right;\">\n",
              "      <th></th>\n",
              "      <th>user_id</th>\n",
              "      <th>account_id</th>\n",
              "      <th>max_return_days</th>\n",
              "      <th>average_return_days</th>\n",
              "      <th>customer_since_months</th>\n",
              "      <th>total_revenue</th>\n",
              "      <th>average_revenue</th>\n",
              "      <th>avg_vas_count</th>\n",
              "      <th>avg_used_vas_value</th>\n",
              "      <th>business_type</th>\n",
              "      <th>avg_wallet_bonus</th>\n",
              "      <th>avg_active_ads</th>\n",
              "      <th>avg_new_ads</th>\n",
              "      <th>avg_email_replies</th>\n",
              "      <th>avg_call_replies</th>\n",
              "      <th>avg_sms_replies</th>\n",
              "      <th>target</th>\n",
              "    </tr>\n",
              "  </thead>\n",
              "  <tbody>\n",
              "    <tr>\n",
              "      <th>0</th>\n",
              "      <td>False</td>\n",
              "      <td>False</td>\n",
              "      <td>False</td>\n",
              "      <td>False</td>\n",
              "      <td>False</td>\n",
              "      <td>False</td>\n",
              "      <td>False</td>\n",
              "      <td>False</td>\n",
              "      <td>False</td>\n",
              "      <td>False</td>\n",
              "      <td>False</td>\n",
              "      <td>False</td>\n",
              "      <td>False</td>\n",
              "      <td>False</td>\n",
              "      <td>False</td>\n",
              "      <td>False</td>\n",
              "      <td>False</td>\n",
              "    </tr>\n",
              "    <tr>\n",
              "      <th>1</th>\n",
              "      <td>False</td>\n",
              "      <td>False</td>\n",
              "      <td>False</td>\n",
              "      <td>False</td>\n",
              "      <td>False</td>\n",
              "      <td>False</td>\n",
              "      <td>False</td>\n",
              "      <td>False</td>\n",
              "      <td>False</td>\n",
              "      <td>False</td>\n",
              "      <td>False</td>\n",
              "      <td>False</td>\n",
              "      <td>False</td>\n",
              "      <td>False</td>\n",
              "      <td>False</td>\n",
              "      <td>False</td>\n",
              "      <td>False</td>\n",
              "    </tr>\n",
              "    <tr>\n",
              "      <th>2</th>\n",
              "      <td>False</td>\n",
              "      <td>False</td>\n",
              "      <td>False</td>\n",
              "      <td>False</td>\n",
              "      <td>False</td>\n",
              "      <td>False</td>\n",
              "      <td>False</td>\n",
              "      <td>False</td>\n",
              "      <td>False</td>\n",
              "      <td>False</td>\n",
              "      <td>False</td>\n",
              "      <td>False</td>\n",
              "      <td>False</td>\n",
              "      <td>False</td>\n",
              "      <td>False</td>\n",
              "      <td>False</td>\n",
              "      <td>False</td>\n",
              "    </tr>\n",
              "    <tr>\n",
              "      <th>3</th>\n",
              "      <td>False</td>\n",
              "      <td>False</td>\n",
              "      <td>False</td>\n",
              "      <td>False</td>\n",
              "      <td>False</td>\n",
              "      <td>False</td>\n",
              "      <td>False</td>\n",
              "      <td>False</td>\n",
              "      <td>False</td>\n",
              "      <td>False</td>\n",
              "      <td>False</td>\n",
              "      <td>False</td>\n",
              "      <td>False</td>\n",
              "      <td>False</td>\n",
              "      <td>False</td>\n",
              "      <td>False</td>\n",
              "      <td>False</td>\n",
              "    </tr>\n",
              "    <tr>\n",
              "      <th>4</th>\n",
              "      <td>False</td>\n",
              "      <td>False</td>\n",
              "      <td>False</td>\n",
              "      <td>False</td>\n",
              "      <td>False</td>\n",
              "      <td>False</td>\n",
              "      <td>False</td>\n",
              "      <td>False</td>\n",
              "      <td>False</td>\n",
              "      <td>False</td>\n",
              "      <td>False</td>\n",
              "      <td>False</td>\n",
              "      <td>False</td>\n",
              "      <td>False</td>\n",
              "      <td>False</td>\n",
              "      <td>False</td>\n",
              "      <td>False</td>\n",
              "    </tr>\n",
              "    <tr>\n",
              "      <th>...</th>\n",
              "      <td>...</td>\n",
              "      <td>...</td>\n",
              "      <td>...</td>\n",
              "      <td>...</td>\n",
              "      <td>...</td>\n",
              "      <td>...</td>\n",
              "      <td>...</td>\n",
              "      <td>...</td>\n",
              "      <td>...</td>\n",
              "      <td>...</td>\n",
              "      <td>...</td>\n",
              "      <td>...</td>\n",
              "      <td>...</td>\n",
              "      <td>...</td>\n",
              "      <td>...</td>\n",
              "      <td>...</td>\n",
              "      <td>...</td>\n",
              "    </tr>\n",
              "    <tr>\n",
              "      <th>4402</th>\n",
              "      <td>False</td>\n",
              "      <td>False</td>\n",
              "      <td>False</td>\n",
              "      <td>False</td>\n",
              "      <td>False</td>\n",
              "      <td>False</td>\n",
              "      <td>False</td>\n",
              "      <td>False</td>\n",
              "      <td>False</td>\n",
              "      <td>False</td>\n",
              "      <td>False</td>\n",
              "      <td>False</td>\n",
              "      <td>False</td>\n",
              "      <td>False</td>\n",
              "      <td>False</td>\n",
              "      <td>False</td>\n",
              "      <td>False</td>\n",
              "    </tr>\n",
              "    <tr>\n",
              "      <th>4403</th>\n",
              "      <td>False</td>\n",
              "      <td>False</td>\n",
              "      <td>False</td>\n",
              "      <td>False</td>\n",
              "      <td>False</td>\n",
              "      <td>False</td>\n",
              "      <td>False</td>\n",
              "      <td>False</td>\n",
              "      <td>False</td>\n",
              "      <td>False</td>\n",
              "      <td>False</td>\n",
              "      <td>False</td>\n",
              "      <td>False</td>\n",
              "      <td>False</td>\n",
              "      <td>False</td>\n",
              "      <td>False</td>\n",
              "      <td>False</td>\n",
              "    </tr>\n",
              "    <tr>\n",
              "      <th>4404</th>\n",
              "      <td>False</td>\n",
              "      <td>False</td>\n",
              "      <td>False</td>\n",
              "      <td>False</td>\n",
              "      <td>False</td>\n",
              "      <td>False</td>\n",
              "      <td>False</td>\n",
              "      <td>False</td>\n",
              "      <td>False</td>\n",
              "      <td>False</td>\n",
              "      <td>False</td>\n",
              "      <td>False</td>\n",
              "      <td>False</td>\n",
              "      <td>False</td>\n",
              "      <td>False</td>\n",
              "      <td>False</td>\n",
              "      <td>False</td>\n",
              "    </tr>\n",
              "    <tr>\n",
              "      <th>4405</th>\n",
              "      <td>False</td>\n",
              "      <td>False</td>\n",
              "      <td>False</td>\n",
              "      <td>False</td>\n",
              "      <td>False</td>\n",
              "      <td>False</td>\n",
              "      <td>False</td>\n",
              "      <td>False</td>\n",
              "      <td>False</td>\n",
              "      <td>False</td>\n",
              "      <td>False</td>\n",
              "      <td>False</td>\n",
              "      <td>False</td>\n",
              "      <td>False</td>\n",
              "      <td>False</td>\n",
              "      <td>False</td>\n",
              "      <td>False</td>\n",
              "    </tr>\n",
              "    <tr>\n",
              "      <th>4406</th>\n",
              "      <td>False</td>\n",
              "      <td>False</td>\n",
              "      <td>False</td>\n",
              "      <td>False</td>\n",
              "      <td>False</td>\n",
              "      <td>False</td>\n",
              "      <td>False</td>\n",
              "      <td>False</td>\n",
              "      <td>False</td>\n",
              "      <td>False</td>\n",
              "      <td>False</td>\n",
              "      <td>False</td>\n",
              "      <td>False</td>\n",
              "      <td>False</td>\n",
              "      <td>False</td>\n",
              "      <td>False</td>\n",
              "      <td>False</td>\n",
              "    </tr>\n",
              "  </tbody>\n",
              "</table>\n",
              "<p>4407 rows × 17 columns</p>\n",
              "</div>"
            ],
            "text/plain": [
              "      user_id  account_id  ...  avg_sms_replies  target\n",
              "0       False       False  ...            False   False\n",
              "1       False       False  ...            False   False\n",
              "2       False       False  ...            False   False\n",
              "3       False       False  ...            False   False\n",
              "4       False       False  ...            False   False\n",
              "...       ...         ...  ...              ...     ...\n",
              "4402    False       False  ...            False   False\n",
              "4403    False       False  ...            False   False\n",
              "4404    False       False  ...            False   False\n",
              "4405    False       False  ...            False   False\n",
              "4406    False       False  ...            False   False\n",
              "\n",
              "[4407 rows x 17 columns]"
            ]
          },
          "metadata": {
            "tags": []
          },
          "execution_count": 4
        }
      ]
    },
    {
      "cell_type": "code",
      "metadata": {
        "id": "MBK-o-63aIYK",
        "outputId": "79ff71f9-4e6c-42e3-9da2-a47b2602ae6a",
        "colab": {
          "base_uri": "https://localhost:8080/",
          "height": 34
        }
      },
      "source": [
        "## Here we will check % of nan values present in each feature of dataset\n",
        "features_with_na = [features for features in dataset.columns if dataset[features].isnull().sum() > 1]\n",
        "\n",
        "for feature in features_with_na :\n",
        "  print(feature, np.round(dataset[feature].isnull().mean(), 4), '% missing values')"
      ],
      "execution_count": 5,
      "outputs": [
        {
          "output_type": "stream",
          "text": [
            "account_id 0.0016 % missing values\n"
          ],
          "name": "stdout"
        }
      ]
    },
    {
      "cell_type": "code",
      "metadata": {
        "id": "PMU3qvHV3Eso",
        "outputId": "78470855-4a9b-4291-dbda-b437d7e6558a",
        "colab": {
          "base_uri": "https://localhost:8080/",
          "height": 393
        }
      },
      "source": [
        "sns.heatmap(dataset.isnull(), yticklabels = False, cbar = False, cmap = 'viridis')"
      ],
      "execution_count": 6,
      "outputs": [
        {
          "output_type": "execute_result",
          "data": {
            "text/plain": [
              "<matplotlib.axes._subplots.AxesSubplot at 0x7fa498cc2c18>"
            ]
          },
          "metadata": {
            "tags": []
          },
          "execution_count": 6
        },
        {
          "output_type": "display_data",
          "data": {
            "image/png": "[encoded data removed]",
            "text/plain": [
              "<Figure size 432x288 with 1 Axes>"
            ]
          },
          "metadata": {
            "tags": [],
            "needs_background": "light"
          }
        }
      ]
    },
    {
      "cell_type": "code",
      "metadata": {
        "id": "BtqlZrCF3XLi",
        "outputId": "617b2cfd-50d4-4aaf-b07c-563bd94220e4",
        "colab": {
          "base_uri": "https://localhost:8080/",
          "height": 439
        }
      },
      "source": [
        "#dropping the NaN values present in account_id of dataset\n",
        "dataset1 = dataset.dropna()\n",
        "dataset1"
      ],
      "execution_count": 7,
      "outputs": [
        {
          "output_type": "execute_result",
          "data": {
            "text/html": [
              "<div>\n",
              "<style scoped>\n",
              "    .dataframe tbody tr th:only-of-type {\n",
              "        vertical-align: middle;\n",
              "    }\n",
              "\n",
              "    .dataframe tbody tr th {\n",
              "        vertical-align: top;\n",
              "    }\n",
              "\n",
              "    .dataframe thead th {\n",
              "        text-align: right;\n",
              "    }\n",
              "</style>\n",
              "<table border=\"1\" class=\"dataframe\">\n",
              "  <thead>\n",
              "    <tr style=\"text-align: right;\">\n",
              "      <th></th>\n",
              "      <th>user_id</th>\n",
              "      <th>account_id</th>\n",
              "      <th>max_return_days</th>\n",
              "      <th>average_return_days</th>\n",
              "      <th>customer_since_months</th>\n",
              "      <th>total_revenue</th>\n",
              "      <th>average_revenue</th>\n",
              "      <th>avg_vas_count</th>\n",
              "      <th>avg_used_vas_value</th>\n",
              "      <th>business_type</th>\n",
              "      <th>avg_wallet_bonus</th>\n",
              "      <th>avg_active_ads</th>\n",
              "      <th>avg_new_ads</th>\n",
              "      <th>avg_email_replies</th>\n",
              "      <th>avg_call_replies</th>\n",
              "      <th>avg_sms_replies</th>\n",
              "      <th>target</th>\n",
              "    </tr>\n",
              "  </thead>\n",
              "  <tbody>\n",
              "    <tr>\n",
              "      <th>0</th>\n",
              "      <td>410039</td>\n",
              "      <td>496.0</td>\n",
              "      <td>8</td>\n",
              "      <td>1.500000</td>\n",
              "      <td>14</td>\n",
              "      <td>0.00</td>\n",
              "      <td>0.00</td>\n",
              "      <td>3.666667</td>\n",
              "      <td>66.666667</td>\n",
              "      <td>0</td>\n",
              "      <td>300.0</td>\n",
              "      <td>79.333333</td>\n",
              "      <td>15.250000</td>\n",
              "      <td>32.416667</td>\n",
              "      <td>27.916667</td>\n",
              "      <td>0.250000</td>\n",
              "      <td>0</td>\n",
              "    </tr>\n",
              "    <tr>\n",
              "      <th>1</th>\n",
              "      <td>410240</td>\n",
              "      <td>499.0</td>\n",
              "      <td>37</td>\n",
              "      <td>8.200000</td>\n",
              "      <td>10</td>\n",
              "      <td>0.00</td>\n",
              "      <td>0.00</td>\n",
              "      <td>4.900000</td>\n",
              "      <td>114.000000</td>\n",
              "      <td>0</td>\n",
              "      <td>0.0</td>\n",
              "      <td>232.100000</td>\n",
              "      <td>18.300000</td>\n",
              "      <td>16.200000</td>\n",
              "      <td>13.800000</td>\n",
              "      <td>0.000000</td>\n",
              "      <td>0</td>\n",
              "    </tr>\n",
              "    <tr>\n",
              "      <th>2</th>\n",
              "      <td>411764</td>\n",
              "      <td>493.0</td>\n",
              "      <td>9</td>\n",
              "      <td>1.533333</td>\n",
              "      <td>15</td>\n",
              "      <td>0.00</td>\n",
              "      <td>0.00</td>\n",
              "      <td>5.333333</td>\n",
              "      <td>106.666667</td>\n",
              "      <td>0</td>\n",
              "      <td>150.0</td>\n",
              "      <td>55.083333</td>\n",
              "      <td>3.750000</td>\n",
              "      <td>20.250000</td>\n",
              "      <td>24.500000</td>\n",
              "      <td>0.000000</td>\n",
              "      <td>0</td>\n",
              "    </tr>\n",
              "    <tr>\n",
              "      <th>3</th>\n",
              "      <td>411985</td>\n",
              "      <td>262.0</td>\n",
              "      <td>1</td>\n",
              "      <td>1.000000</td>\n",
              "      <td>14</td>\n",
              "      <td>0.00</td>\n",
              "      <td>0.00</td>\n",
              "      <td>6.307692</td>\n",
              "      <td>176.153846</td>\n",
              "      <td>0</td>\n",
              "      <td>1481.0</td>\n",
              "      <td>409.538462</td>\n",
              "      <td>80.769231</td>\n",
              "      <td>87.461538</td>\n",
              "      <td>57.615385</td>\n",
              "      <td>0.000000</td>\n",
              "      <td>1</td>\n",
              "    </tr>\n",
              "    <tr>\n",
              "      <th>4</th>\n",
              "      <td>412071</td>\n",
              "      <td>496.0</td>\n",
              "      <td>1</td>\n",
              "      <td>1.000000</td>\n",
              "      <td>18</td>\n",
              "      <td>0.00</td>\n",
              "      <td>0.00</td>\n",
              "      <td>5.846154</td>\n",
              "      <td>109.230769</td>\n",
              "      <td>0</td>\n",
              "      <td>41.5</td>\n",
              "      <td>48.230769</td>\n",
              "      <td>1.692308</td>\n",
              "      <td>17.461538</td>\n",
              "      <td>25.769231</td>\n",
              "      <td>0.230769</td>\n",
              "      <td>0</td>\n",
              "    </tr>\n",
              "    <tr>\n",
              "      <th>...</th>\n",
              "      <td>...</td>\n",
              "      <td>...</td>\n",
              "      <td>...</td>\n",
              "      <td>...</td>\n",
              "      <td>...</td>\n",
              "      <td>...</td>\n",
              "      <td>...</td>\n",
              "      <td>...</td>\n",
              "      <td>...</td>\n",
              "      <td>...</td>\n",
              "      <td>...</td>\n",
              "      <td>...</td>\n",
              "      <td>...</td>\n",
              "      <td>...</td>\n",
              "      <td>...</td>\n",
              "      <td>...</td>\n",
              "      <td>...</td>\n",
              "    </tr>\n",
              "    <tr>\n",
              "      <th>4402</th>\n",
              "      <td>73498690100</td>\n",
              "      <td>113.0</td>\n",
              "      <td>1</td>\n",
              "      <td>1.000000</td>\n",
              "      <td>4</td>\n",
              "      <td>0.00</td>\n",
              "      <td>0.00</td>\n",
              "      <td>0.000000</td>\n",
              "      <td>0.000000</td>\n",
              "      <td>3</td>\n",
              "      <td>0.0</td>\n",
              "      <td>4.666667</td>\n",
              "      <td>2.000000</td>\n",
              "      <td>9.666667</td>\n",
              "      <td>14.666667</td>\n",
              "      <td>0.333333</td>\n",
              "      <td>0</td>\n",
              "    </tr>\n",
              "    <tr>\n",
              "      <th>4403</th>\n",
              "      <td>73519239100</td>\n",
              "      <td>1017.0</td>\n",
              "      <td>1</td>\n",
              "      <td>1.000000</td>\n",
              "      <td>2</td>\n",
              "      <td>0.00</td>\n",
              "      <td>0.00</td>\n",
              "      <td>0.000000</td>\n",
              "      <td>0.000000</td>\n",
              "      <td>4</td>\n",
              "      <td>0.0</td>\n",
              "      <td>153.000000</td>\n",
              "      <td>76.500000</td>\n",
              "      <td>9.000000</td>\n",
              "      <td>11.500000</td>\n",
              "      <td>0.000000</td>\n",
              "      <td>0</td>\n",
              "    </tr>\n",
              "    <tr>\n",
              "      <th>4404</th>\n",
              "      <td>73525763100</td>\n",
              "      <td>226.0</td>\n",
              "      <td>1</td>\n",
              "      <td>1.000000</td>\n",
              "      <td>2</td>\n",
              "      <td>0.00</td>\n",
              "      <td>0.00</td>\n",
              "      <td>0.000000</td>\n",
              "      <td>0.000000</td>\n",
              "      <td>1</td>\n",
              "      <td>0.0</td>\n",
              "      <td>0.000000</td>\n",
              "      <td>0.000000</td>\n",
              "      <td>0.000000</td>\n",
              "      <td>0.000000</td>\n",
              "      <td>0.000000</td>\n",
              "      <td>0</td>\n",
              "    </tr>\n",
              "    <tr>\n",
              "      <th>4405</th>\n",
              "      <td>73538605100</td>\n",
              "      <td>226.0</td>\n",
              "      <td>1</td>\n",
              "      <td>1.000000</td>\n",
              "      <td>2</td>\n",
              "      <td>551.19</td>\n",
              "      <td>551.19</td>\n",
              "      <td>7.000000</td>\n",
              "      <td>70.000000</td>\n",
              "      <td>1</td>\n",
              "      <td>0.0</td>\n",
              "      <td>17.000000</td>\n",
              "      <td>17.000000</td>\n",
              "      <td>10.000000</td>\n",
              "      <td>8.000000</td>\n",
              "      <td>0.000000</td>\n",
              "      <td>0</td>\n",
              "    </tr>\n",
              "    <tr>\n",
              "      <th>4406</th>\n",
              "      <td>73560305100</td>\n",
              "      <td>1017.0</td>\n",
              "      <td>1</td>\n",
              "      <td>1.000000</td>\n",
              "      <td>4</td>\n",
              "      <td>0.00</td>\n",
              "      <td>0.00</td>\n",
              "      <td>0.000000</td>\n",
              "      <td>0.000000</td>\n",
              "      <td>0</td>\n",
              "      <td>240.0</td>\n",
              "      <td>1.000000</td>\n",
              "      <td>1.000000</td>\n",
              "      <td>0.000000</td>\n",
              "      <td>0.000000</td>\n",
              "      <td>0.000000</td>\n",
              "      <td>0</td>\n",
              "    </tr>\n",
              "  </tbody>\n",
              "</table>\n",
              "<p>4400 rows × 17 columns</p>\n",
              "</div>"
            ],
            "text/plain": [
              "          user_id  account_id  ...  avg_sms_replies  target\n",
              "0          410039       496.0  ...         0.250000       0\n",
              "1          410240       499.0  ...         0.000000       0\n",
              "2          411764       493.0  ...         0.000000       0\n",
              "3          411985       262.0  ...         0.000000       1\n",
              "4          412071       496.0  ...         0.230769       0\n",
              "...           ...         ...  ...              ...     ...\n",
              "4402  73498690100       113.0  ...         0.333333       0\n",
              "4403  73519239100      1017.0  ...         0.000000       0\n",
              "4404  73525763100       226.0  ...         0.000000       0\n",
              "4405  73538605100       226.0  ...         0.000000       0\n",
              "4406  73560305100      1017.0  ...         0.000000       0\n",
              "\n",
              "[4400 rows x 17 columns]"
            ]
          },
          "metadata": {
            "tags": []
          },
          "execution_count": 7
        }
      ]
    },
    {
      "cell_type": "code",
      "metadata": {
        "id": "9fdinL2c96NT",
        "outputId": "ec71a48e-c135-4cc7-ec79-65ba4794d512",
        "colab": {
          "base_uri": "https://localhost:8080/",
          "height": 393
        }
      },
      "source": [
        "sns.heatmap(dataset1.isnull(), yticklabels = False, cbar = False, cmap = 'viridis')"
      ],
      "execution_count": 8,
      "outputs": [
        {
          "output_type": "execute_result",
          "data": {
            "text/plain": [
              "<matplotlib.axes._subplots.AxesSubplot at 0x7fa494cd1b70>"
            ]
          },
          "metadata": {
            "tags": []
          },
          "execution_count": 8
        },
        {
          "output_type": "display_data",
          "data": {
            "image/png": "[encoded data removed]",
            "text/plain": [
              "<Figure size 432x288 with 1 Axes>"
            ]
          },
          "metadata": {
            "tags": [],
            "needs_background": "light"
          }
        }
      ]
    },
    {
      "cell_type": "markdown",
      "metadata": {
        "id": "kg_lqKZ7DQb4"
      },
      "source": [
        "## **EDA on the given data**"
      ]
    },
    {
      "cell_type": "code",
      "metadata": {
        "id": "2_siBJgq3FEU",
        "outputId": "bccdcf51-cd85-477f-8197-2b21f510bfe4",
        "colab": {
          "base_uri": "https://localhost:8080/",
          "height": 425
        }
      },
      "source": [
        "dataset1.info()"
      ],
      "execution_count": 9,
      "outputs": [
        {
          "output_type": "stream",
          "text": [
            "<class 'pandas.core.frame.DataFrame'>\n",
            "Int64Index: 4400 entries, 0 to 4406\n",
            "Data columns (total 17 columns):\n",
            " #   Column                 Non-Null Count  Dtype  \n",
            "---  ------                 --------------  -----  \n",
            " 0   user_id                4400 non-null   int64  \n",
            " 1   account_id             4400 non-null   float64\n",
            " 2   max_return_days        4400 non-null   int64  \n",
            " 3   average_return_days    4400 non-null   float64\n",
            " 4   customer_since_months  4400 non-null   int64  \n",
            " 5   total_revenue          4400 non-null   float64\n",
            " 6   average_revenue        4400 non-null   float64\n",
            " 7   avg_vas_count          4400 non-null   float64\n",
            " 8   avg_used_vas_value     4400 non-null   float64\n",
            " 9   business_type          4400 non-null   int64  \n",
            " 10  avg_wallet_bonus       4400 non-null   float64\n",
            " 11  avg_active_ads         4400 non-null   float64\n",
            " 12  avg_new_ads            4400 non-null   float64\n",
            " 13  avg_email_replies      4400 non-null   float64\n",
            " 14  avg_call_replies       4400 non-null   float64\n",
            " 15  avg_sms_replies        4400 non-null   float64\n",
            " 16  target                 4400 non-null   int64  \n",
            "dtypes: float64(12), int64(5)\n",
            "memory usage: 618.8 KB\n"
          ],
          "name": "stdout"
        }
      ]
    },
    {
      "cell_type": "code",
      "metadata": {
        "id": "ISM4dr8-3XI7",
        "outputId": "d4911387-89bf-45bc-f653-e65f699aa07a",
        "colab": {
          "base_uri": "https://localhost:8080/",
          "height": 317
        }
      },
      "source": [
        "dataset1.describe()"
      ],
      "execution_count": 10,
      "outputs": [
        {
          "output_type": "execute_result",
          "data": {
            "text/html": [
              "<div>\n",
              "<style scoped>\n",
              "    .dataframe tbody tr th:only-of-type {\n",
              "        vertical-align: middle;\n",
              "    }\n",
              "\n",
              "    .dataframe tbody tr th {\n",
              "        vertical-align: top;\n",
              "    }\n",
              "\n",
              "    .dataframe thead th {\n",
              "        text-align: right;\n",
              "    }\n",
              "</style>\n",
              "<table border=\"1\" class=\"dataframe\">\n",
              "  <thead>\n",
              "    <tr style=\"text-align: right;\">\n",
              "      <th></th>\n",
              "      <th>user_id</th>\n",
              "      <th>account_id</th>\n",
              "      <th>max_return_days</th>\n",
              "      <th>average_return_days</th>\n",
              "      <th>customer_since_months</th>\n",
              "      <th>total_revenue</th>\n",
              "      <th>average_revenue</th>\n",
              "      <th>avg_vas_count</th>\n",
              "      <th>avg_used_vas_value</th>\n",
              "      <th>business_type</th>\n",
              "      <th>avg_wallet_bonus</th>\n",
              "      <th>avg_active_ads</th>\n",
              "      <th>avg_new_ads</th>\n",
              "      <th>avg_email_replies</th>\n",
              "      <th>avg_call_replies</th>\n",
              "      <th>avg_sms_replies</th>\n",
              "      <th>target</th>\n",
              "    </tr>\n",
              "  </thead>\n",
              "  <tbody>\n",
              "    <tr>\n",
              "      <th>count</th>\n",
              "      <td>4.400000e+03</td>\n",
              "      <td>4400.000000</td>\n",
              "      <td>4400.000000</td>\n",
              "      <td>4400.000000</td>\n",
              "      <td>4400.000000</td>\n",
              "      <td>4400.000000</td>\n",
              "      <td>4400.000000</td>\n",
              "      <td>4400.000000</td>\n",
              "      <td>4400.000000</td>\n",
              "      <td>4400.000000</td>\n",
              "      <td>4400.000000</td>\n",
              "      <td>4400.000000</td>\n",
              "      <td>4400.000000</td>\n",
              "      <td>4400.000000</td>\n",
              "      <td>4400.000000</td>\n",
              "      <td>4400.000000</td>\n",
              "      <td>4400.000000</td>\n",
              "    </tr>\n",
              "    <tr>\n",
              "      <th>mean</th>\n",
              "      <td>4.106191e+09</td>\n",
              "      <td>506.553864</td>\n",
              "      <td>22.362500</td>\n",
              "      <td>7.174561</td>\n",
              "      <td>9.884545</td>\n",
              "      <td>194.439208</td>\n",
              "      <td>16.969570</td>\n",
              "      <td>3.253853</td>\n",
              "      <td>72.217150</td>\n",
              "      <td>0.496591</td>\n",
              "      <td>339.299218</td>\n",
              "      <td>98.992841</td>\n",
              "      <td>16.768863</td>\n",
              "      <td>25.711065</td>\n",
              "      <td>27.655640</td>\n",
              "      <td>0.162266</td>\n",
              "      <td>0.103182</td>\n",
              "    </tr>\n",
              "    <tr>\n",
              "      <th>std</th>\n",
              "      <td>6.798984e+09</td>\n",
              "      <td>326.072756</td>\n",
              "      <td>43.618703</td>\n",
              "      <td>19.219665</td>\n",
              "      <td>5.163509</td>\n",
              "      <td>1549.573607</td>\n",
              "      <td>128.369056</td>\n",
              "      <td>5.512943</td>\n",
              "      <td>117.082250</td>\n",
              "      <td>1.198236</td>\n",
              "      <td>832.312947</td>\n",
              "      <td>297.898133</td>\n",
              "      <td>67.975094</td>\n",
              "      <td>55.361244</td>\n",
              "      <td>61.110202</td>\n",
              "      <td>0.518064</td>\n",
              "      <td>0.304231</td>\n",
              "    </tr>\n",
              "    <tr>\n",
              "      <th>min</th>\n",
              "      <td>4.100390e+05</td>\n",
              "      <td>111.000000</td>\n",
              "      <td>1.000000</td>\n",
              "      <td>0.500000</td>\n",
              "      <td>1.000000</td>\n",
              "      <td>0.000000</td>\n",
              "      <td>0.000000</td>\n",
              "      <td>0.000000</td>\n",
              "      <td>0.000000</td>\n",
              "      <td>0.000000</td>\n",
              "      <td>0.000000</td>\n",
              "      <td>0.000000</td>\n",
              "      <td>0.000000</td>\n",
              "      <td>0.000000</td>\n",
              "      <td>0.000000</td>\n",
              "      <td>0.000000</td>\n",
              "      <td>0.000000</td>\n",
              "    </tr>\n",
              "    <tr>\n",
              "      <th>25%</th>\n",
              "      <td>6.184590e+08</td>\n",
              "      <td>226.000000</td>\n",
              "      <td>1.000000</td>\n",
              "      <td>1.000000</td>\n",
              "      <td>5.000000</td>\n",
              "      <td>0.000000</td>\n",
              "      <td>0.000000</td>\n",
              "      <td>0.153846</td>\n",
              "      <td>2.964286</td>\n",
              "      <td>0.000000</td>\n",
              "      <td>0.000000</td>\n",
              "      <td>13.538462</td>\n",
              "      <td>2.500000</td>\n",
              "      <td>4.490385</td>\n",
              "      <td>4.412500</td>\n",
              "      <td>0.000000</td>\n",
              "      <td>0.000000</td>\n",
              "    </tr>\n",
              "    <tr>\n",
              "      <th>50%</th>\n",
              "      <td>7.293982e+08</td>\n",
              "      <td>493.000000</td>\n",
              "      <td>2.000000</td>\n",
              "      <td>1.076923</td>\n",
              "      <td>12.000000</td>\n",
              "      <td>0.000000</td>\n",
              "      <td>0.000000</td>\n",
              "      <td>2.000000</td>\n",
              "      <td>45.000000</td>\n",
              "      <td>0.000000</td>\n",
              "      <td>41.500000</td>\n",
              "      <td>40.000000</td>\n",
              "      <td>6.333333</td>\n",
              "      <td>12.307692</td>\n",
              "      <td>13.000000</td>\n",
              "      <td>0.000000</td>\n",
              "      <td>0.000000</td>\n",
              "    </tr>\n",
              "    <tr>\n",
              "      <th>75%</th>\n",
              "      <td>7.292738e+09</td>\n",
              "      <td>1005.000000</td>\n",
              "      <td>30.000000</td>\n",
              "      <td>5.666667</td>\n",
              "      <td>14.000000</td>\n",
              "      <td>0.000000</td>\n",
              "      <td>0.000000</td>\n",
              "      <td>4.358766</td>\n",
              "      <td>100.000000</td>\n",
              "      <td>0.000000</td>\n",
              "      <td>328.275000</td>\n",
              "      <td>101.333333</td>\n",
              "      <td>14.250000</td>\n",
              "      <td>28.000000</td>\n",
              "      <td>30.804545</td>\n",
              "      <td>0.153846</td>\n",
              "      <td>0.000000</td>\n",
              "    </tr>\n",
              "    <tr>\n",
              "      <th>max</th>\n",
              "      <td>7.356031e+10</td>\n",
              "      <td>1017.000000</td>\n",
              "      <td>354.000000</td>\n",
              "      <td>354.000000</td>\n",
              "      <td>24.000000</td>\n",
              "      <td>43957.172700</td>\n",
              "      <td>3852.727273</td>\n",
              "      <td>156.583333</td>\n",
              "      <td>3357.500000</td>\n",
              "      <td>5.000000</td>\n",
              "      <td>15606.500000</td>\n",
              "      <td>9183.866667</td>\n",
              "      <td>2606.000000</td>\n",
              "      <td>1716.400000</td>\n",
              "      <td>1743.266667</td>\n",
              "      <td>14.636364</td>\n",
              "      <td>1.000000</td>\n",
              "    </tr>\n",
              "  </tbody>\n",
              "</table>\n",
              "</div>"
            ],
            "text/plain": [
              "            user_id   account_id  ...  avg_sms_replies       target\n",
              "count  4.400000e+03  4400.000000  ...      4400.000000  4400.000000\n",
              "mean   4.106191e+09   506.553864  ...         0.162266     0.103182\n",
              "std    6.798984e+09   326.072756  ...         0.518064     0.304231\n",
              "min    4.100390e+05   111.000000  ...         0.000000     0.000000\n",
              "25%    6.184590e+08   226.000000  ...         0.000000     0.000000\n",
              "50%    7.293982e+08   493.000000  ...         0.000000     0.000000\n",
              "75%    7.292738e+09  1005.000000  ...         0.153846     0.000000\n",
              "max    7.356031e+10  1017.000000  ...        14.636364     1.000000\n",
              "\n",
              "[8 rows x 17 columns]"
            ]
          },
          "metadata": {
            "tags": []
          },
          "execution_count": 10
        }
      ]
    },
    {
      "cell_type": "code",
      "metadata": {
        "id": "e6R1xlrg4TKV",
        "outputId": "4cf7449f-1bbf-4a49-ef96-618debce8046",
        "colab": {
          "base_uri": "https://localhost:8080/",
          "height": 351
        }
      },
      "source": [
        "\n",
        "sns.distplot( dataset1.max_return_days ,kde = False)"
      ],
      "execution_count": 11,
      "outputs": [
        {
          "output_type": "stream",
          "text": [
            "/usr/local/lib/python3.6/dist-packages/seaborn/distributions.py:2551: FutureWarning: `distplot` is a deprecated function and will be removed in a future version. Please adapt your code to use either `displot` (a figure-level function with similar flexibility) or `histplot` (an axes-level function for histograms).\n",
            "  warnings.warn(msg, FutureWarning)\n"
          ],
          "name": "stderr"
        },
        {
          "output_type": "execute_result",
          "data": {
            "text/plain": [
              "<matplotlib.axes._subplots.AxesSubplot at 0x7fa4944667b8>"
            ]
          },
          "metadata": {
            "tags": []
          },
          "execution_count": 11
        },
        {
          "output_type": "display_data",
          "data": {
            "image/png": "[encoded data removed]",
            "text/plain": [
              "<Figure size 432x288 with 1 Axes>"
            ]
          },
          "metadata": {
            "tags": [],
            "needs_background": "light"
          }
        }
      ]
    },
    {
      "cell_type": "code",
      "metadata": {
        "id": "Cmgu_tKu4TQK",
        "outputId": "8359d26b-0875-48ab-fb06-194f505adea5",
        "colab": {
          "base_uri": "https://localhost:8080/",
          "height": 690
        }
      },
      "source": [
        "dataset1.groupby('customer_since_months').average_return_days.hist(alpha = 1)"
      ],
      "execution_count": 12,
      "outputs": [
        {
          "output_type": "execute_result",
          "data": {
            "text/plain": [
              "customer_since_months\n",
              "1     AxesSubplot(0.125,0.125;0.775x0.755)\n",
              "2     AxesSubplot(0.125,0.125;0.775x0.755)\n",
              "3     AxesSubplot(0.125,0.125;0.775x0.755)\n",
              "4     AxesSubplot(0.125,0.125;0.775x0.755)\n",
              "5     AxesSubplot(0.125,0.125;0.775x0.755)\n",
              "6     AxesSubplot(0.125,0.125;0.775x0.755)\n",
              "7     AxesSubplot(0.125,0.125;0.775x0.755)\n",
              "8     AxesSubplot(0.125,0.125;0.775x0.755)\n",
              "9     AxesSubplot(0.125,0.125;0.775x0.755)\n",
              "10    AxesSubplot(0.125,0.125;0.775x0.755)\n",
              "11    AxesSubplot(0.125,0.125;0.775x0.755)\n",
              "12    AxesSubplot(0.125,0.125;0.775x0.755)\n",
              "13    AxesSubplot(0.125,0.125;0.775x0.755)\n",
              "14    AxesSubplot(0.125,0.125;0.775x0.755)\n",
              "15    AxesSubplot(0.125,0.125;0.775x0.755)\n",
              "16    AxesSubplot(0.125,0.125;0.775x0.755)\n",
              "17    AxesSubplot(0.125,0.125;0.775x0.755)\n",
              "18    AxesSubplot(0.125,0.125;0.775x0.755)\n",
              "19    AxesSubplot(0.125,0.125;0.775x0.755)\n",
              "20    AxesSubplot(0.125,0.125;0.775x0.755)\n",
              "21    AxesSubplot(0.125,0.125;0.775x0.755)\n",
              "23    AxesSubplot(0.125,0.125;0.775x0.755)\n",
              "24    AxesSubplot(0.125,0.125;0.775x0.755)\n",
              "Name: average_return_days, dtype: object"
            ]
          },
          "metadata": {
            "tags": []
          },
          "execution_count": 12
        },
        {
          "output_type": "display_data",
          "data": {
            "image/png": "[encoded data removed]",
            "text/plain": [
              "<Figure size 432x288 with 1 Axes>"
            ]
          },
          "metadata": {
            "tags": [],
            "needs_background": "light"
          }
        }
      ]
    },
    {
      "cell_type": "code",
      "metadata": {
        "id": "3VRQpuoIAV-_",
        "outputId": "ee73d829-0742-430a-fb02-d82c953b1805",
        "colab": {
          "base_uri": "https://localhost:8080/",
          "height": 596
        }
      },
      "source": [
        "dataset1.corr()"
      ],
      "execution_count": 13,
      "outputs": [
        {
          "output_type": "execute_result",
          "data": {
            "text/html": [
              "<div>\n",
              "<style scoped>\n",
              "    .dataframe tbody tr th:only-of-type {\n",
              "        vertical-align: middle;\n",
              "    }\n",
              "\n",
              "    .dataframe tbody tr th {\n",
              "        vertical-align: top;\n",
              "    }\n",
              "\n",
              "    .dataframe thead th {\n",
              "        text-align: right;\n",
              "    }\n",
              "</style>\n",
              "<table border=\"1\" class=\"dataframe\">\n",
              "  <thead>\n",
              "    <tr style=\"text-align: right;\">\n",
              "      <th></th>\n",
              "      <th>user_id</th>\n",
              "      <th>account_id</th>\n",
              "      <th>max_return_days</th>\n",
              "      <th>average_return_days</th>\n",
              "      <th>customer_since_months</th>\n",
              "      <th>total_revenue</th>\n",
              "      <th>average_revenue</th>\n",
              "      <th>avg_vas_count</th>\n",
              "      <th>avg_used_vas_value</th>\n",
              "      <th>business_type</th>\n",
              "      <th>avg_wallet_bonus</th>\n",
              "      <th>avg_active_ads</th>\n",
              "      <th>avg_new_ads</th>\n",
              "      <th>avg_email_replies</th>\n",
              "      <th>avg_call_replies</th>\n",
              "      <th>avg_sms_replies</th>\n",
              "      <th>target</th>\n",
              "    </tr>\n",
              "  </thead>\n",
              "  <tbody>\n",
              "    <tr>\n",
              "      <th>user_id</th>\n",
              "      <td>1.000000</td>\n",
              "      <td>0.056700</td>\n",
              "      <td>0.028626</td>\n",
              "      <td>0.027063</td>\n",
              "      <td>-0.181671</td>\n",
              "      <td>-0.033228</td>\n",
              "      <td>-0.016299</td>\n",
              "      <td>-0.101715</td>\n",
              "      <td>-0.113532</td>\n",
              "      <td>0.042191</td>\n",
              "      <td>-0.096223</td>\n",
              "      <td>-0.061172</td>\n",
              "      <td>-0.003543</td>\n",
              "      <td>-0.105052</td>\n",
              "      <td>-0.098219</td>\n",
              "      <td>-0.070978</td>\n",
              "      <td>0.048218</td>\n",
              "    </tr>\n",
              "    <tr>\n",
              "      <th>account_id</th>\n",
              "      <td>0.056700</td>\n",
              "      <td>1.000000</td>\n",
              "      <td>0.186045</td>\n",
              "      <td>0.114084</td>\n",
              "      <td>-0.138623</td>\n",
              "      <td>-0.056088</td>\n",
              "      <td>-0.063251</td>\n",
              "      <td>-0.123744</td>\n",
              "      <td>-0.137692</td>\n",
              "      <td>-0.023560</td>\n",
              "      <td>-0.115246</td>\n",
              "      <td>-0.104818</td>\n",
              "      <td>-0.049433</td>\n",
              "      <td>-0.111508</td>\n",
              "      <td>-0.115326</td>\n",
              "      <td>-0.082611</td>\n",
              "      <td>0.121939</td>\n",
              "    </tr>\n",
              "    <tr>\n",
              "      <th>max_return_days</th>\n",
              "      <td>0.028626</td>\n",
              "      <td>0.186045</td>\n",
              "      <td>1.000000</td>\n",
              "      <td>0.749133</td>\n",
              "      <td>-0.187866</td>\n",
              "      <td>-0.001889</td>\n",
              "      <td>0.013184</td>\n",
              "      <td>-0.112382</td>\n",
              "      <td>-0.119129</td>\n",
              "      <td>-0.018485</td>\n",
              "      <td>-0.131552</td>\n",
              "      <td>-0.042902</td>\n",
              "      <td>-0.009146</td>\n",
              "      <td>-0.075940</td>\n",
              "      <td>-0.079302</td>\n",
              "      <td>-0.050359</td>\n",
              "      <td>0.275500</td>\n",
              "    </tr>\n",
              "    <tr>\n",
              "      <th>average_return_days</th>\n",
              "      <td>0.027063</td>\n",
              "      <td>0.114084</td>\n",
              "      <td>0.749133</td>\n",
              "      <td>1.000000</td>\n",
              "      <td>-0.257220</td>\n",
              "      <td>-0.014447</td>\n",
              "      <td>-0.006567</td>\n",
              "      <td>-0.108128</td>\n",
              "      <td>-0.114067</td>\n",
              "      <td>0.027346</td>\n",
              "      <td>-0.103593</td>\n",
              "      <td>-0.047031</td>\n",
              "      <td>-0.017632</td>\n",
              "      <td>-0.070784</td>\n",
              "      <td>-0.070982</td>\n",
              "      <td>-0.038793</td>\n",
              "      <td>0.166119</td>\n",
              "    </tr>\n",
              "    <tr>\n",
              "      <th>customer_since_months</th>\n",
              "      <td>-0.181671</td>\n",
              "      <td>-0.138623</td>\n",
              "      <td>-0.187866</td>\n",
              "      <td>-0.257220</td>\n",
              "      <td>1.000000</td>\n",
              "      <td>0.090466</td>\n",
              "      <td>0.063811</td>\n",
              "      <td>0.320958</td>\n",
              "      <td>0.350325</td>\n",
              "      <td>-0.217427</td>\n",
              "      <td>0.351896</td>\n",
              "      <td>0.138805</td>\n",
              "      <td>0.020578</td>\n",
              "      <td>0.206001</td>\n",
              "      <td>0.206257</td>\n",
              "      <td>0.122789</td>\n",
              "      <td>-0.235238</td>\n",
              "    </tr>\n",
              "    <tr>\n",
              "      <th>total_revenue</th>\n",
              "      <td>-0.033228</td>\n",
              "      <td>-0.056088</td>\n",
              "      <td>-0.001889</td>\n",
              "      <td>-0.014447</td>\n",
              "      <td>0.090466</td>\n",
              "      <td>1.000000</td>\n",
              "      <td>0.950357</td>\n",
              "      <td>0.608638</td>\n",
              "      <td>0.642191</td>\n",
              "      <td>-0.017400</td>\n",
              "      <td>0.075885</td>\n",
              "      <td>0.341788</td>\n",
              "      <td>0.131101</td>\n",
              "      <td>0.214032</td>\n",
              "      <td>0.214258</td>\n",
              "      <td>0.213352</td>\n",
              "      <td>-0.032580</td>\n",
              "    </tr>\n",
              "    <tr>\n",
              "      <th>average_revenue</th>\n",
              "      <td>-0.016299</td>\n",
              "      <td>-0.063251</td>\n",
              "      <td>0.013184</td>\n",
              "      <td>-0.006567</td>\n",
              "      <td>0.063811</td>\n",
              "      <td>0.950357</td>\n",
              "      <td>1.000000</td>\n",
              "      <td>0.586291</td>\n",
              "      <td>0.612613</td>\n",
              "      <td>-0.001530</td>\n",
              "      <td>0.070007</td>\n",
              "      <td>0.354482</td>\n",
              "      <td>0.132759</td>\n",
              "      <td>0.209668</td>\n",
              "      <td>0.209233</td>\n",
              "      <td>0.214889</td>\n",
              "      <td>-0.025354</td>\n",
              "    </tr>\n",
              "    <tr>\n",
              "      <th>avg_vas_count</th>\n",
              "      <td>-0.101715</td>\n",
              "      <td>-0.123744</td>\n",
              "      <td>-0.112382</td>\n",
              "      <td>-0.108128</td>\n",
              "      <td>0.320958</td>\n",
              "      <td>0.608638</td>\n",
              "      <td>0.586291</td>\n",
              "      <td>1.000000</td>\n",
              "      <td>0.962294</td>\n",
              "      <td>-0.119417</td>\n",
              "      <td>0.130987</td>\n",
              "      <td>0.413871</td>\n",
              "      <td>0.192561</td>\n",
              "      <td>0.360600</td>\n",
              "      <td>0.342573</td>\n",
              "      <td>0.240456</td>\n",
              "      <td>-0.117154</td>\n",
              "    </tr>\n",
              "    <tr>\n",
              "      <th>avg_used_vas_value</th>\n",
              "      <td>-0.113532</td>\n",
              "      <td>-0.137692</td>\n",
              "      <td>-0.119129</td>\n",
              "      <td>-0.114067</td>\n",
              "      <td>0.350325</td>\n",
              "      <td>0.642191</td>\n",
              "      <td>0.612613</td>\n",
              "      <td>0.962294</td>\n",
              "      <td>1.000000</td>\n",
              "      <td>-0.119371</td>\n",
              "      <td>0.156046</td>\n",
              "      <td>0.407629</td>\n",
              "      <td>0.186521</td>\n",
              "      <td>0.362861</td>\n",
              "      <td>0.347016</td>\n",
              "      <td>0.244097</td>\n",
              "      <td>-0.128464</td>\n",
              "    </tr>\n",
              "    <tr>\n",
              "      <th>business_type</th>\n",
              "      <td>0.042191</td>\n",
              "      <td>-0.023560</td>\n",
              "      <td>-0.018485</td>\n",
              "      <td>0.027346</td>\n",
              "      <td>-0.217427</td>\n",
              "      <td>-0.017400</td>\n",
              "      <td>-0.001530</td>\n",
              "      <td>-0.119417</td>\n",
              "      <td>-0.119371</td>\n",
              "      <td>1.000000</td>\n",
              "      <td>-0.107314</td>\n",
              "      <td>-0.076037</td>\n",
              "      <td>-0.004429</td>\n",
              "      <td>-0.050023</td>\n",
              "      <td>-0.053766</td>\n",
              "      <td>0.005707</td>\n",
              "      <td>0.005954</td>\n",
              "    </tr>\n",
              "    <tr>\n",
              "      <th>avg_wallet_bonus</th>\n",
              "      <td>-0.096223</td>\n",
              "      <td>-0.115246</td>\n",
              "      <td>-0.131552</td>\n",
              "      <td>-0.103593</td>\n",
              "      <td>0.351896</td>\n",
              "      <td>0.075885</td>\n",
              "      <td>0.070007</td>\n",
              "      <td>0.130987</td>\n",
              "      <td>0.156046</td>\n",
              "      <td>-0.107314</td>\n",
              "      <td>1.000000</td>\n",
              "      <td>0.256529</td>\n",
              "      <td>0.121930</td>\n",
              "      <td>0.273732</td>\n",
              "      <td>0.284304</td>\n",
              "      <td>0.237666</td>\n",
              "      <td>-0.076783</td>\n",
              "    </tr>\n",
              "    <tr>\n",
              "      <th>avg_active_ads</th>\n",
              "      <td>-0.061172</td>\n",
              "      <td>-0.104818</td>\n",
              "      <td>-0.042902</td>\n",
              "      <td>-0.047031</td>\n",
              "      <td>0.138805</td>\n",
              "      <td>0.341788</td>\n",
              "      <td>0.354482</td>\n",
              "      <td>0.413871</td>\n",
              "      <td>0.407629</td>\n",
              "      <td>-0.076037</td>\n",
              "      <td>0.256529</td>\n",
              "      <td>1.000000</td>\n",
              "      <td>0.651254</td>\n",
              "      <td>0.704153</td>\n",
              "      <td>0.677130</td>\n",
              "      <td>0.433443</td>\n",
              "      <td>-0.021826</td>\n",
              "    </tr>\n",
              "    <tr>\n",
              "      <th>avg_new_ads</th>\n",
              "      <td>-0.003543</td>\n",
              "      <td>-0.049433</td>\n",
              "      <td>-0.009146</td>\n",
              "      <td>-0.017632</td>\n",
              "      <td>0.020578</td>\n",
              "      <td>0.131101</td>\n",
              "      <td>0.132759</td>\n",
              "      <td>0.192561</td>\n",
              "      <td>0.186521</td>\n",
              "      <td>-0.004429</td>\n",
              "      <td>0.121930</td>\n",
              "      <td>0.651254</td>\n",
              "      <td>1.000000</td>\n",
              "      <td>0.413935</td>\n",
              "      <td>0.379151</td>\n",
              "      <td>0.261525</td>\n",
              "      <td>0.014593</td>\n",
              "    </tr>\n",
              "    <tr>\n",
              "      <th>avg_email_replies</th>\n",
              "      <td>-0.105052</td>\n",
              "      <td>-0.111508</td>\n",
              "      <td>-0.075940</td>\n",
              "      <td>-0.070784</td>\n",
              "      <td>0.206001</td>\n",
              "      <td>0.214032</td>\n",
              "      <td>0.209668</td>\n",
              "      <td>0.360600</td>\n",
              "      <td>0.362861</td>\n",
              "      <td>-0.050023</td>\n",
              "      <td>0.273732</td>\n",
              "      <td>0.704153</td>\n",
              "      <td>0.413935</td>\n",
              "      <td>1.000000</td>\n",
              "      <td>0.955301</td>\n",
              "      <td>0.716719</td>\n",
              "      <td>-0.070678</td>\n",
              "    </tr>\n",
              "    <tr>\n",
              "      <th>avg_call_replies</th>\n",
              "      <td>-0.098219</td>\n",
              "      <td>-0.115326</td>\n",
              "      <td>-0.079302</td>\n",
              "      <td>-0.070982</td>\n",
              "      <td>0.206257</td>\n",
              "      <td>0.214258</td>\n",
              "      <td>0.209233</td>\n",
              "      <td>0.342573</td>\n",
              "      <td>0.347016</td>\n",
              "      <td>-0.053766</td>\n",
              "      <td>0.284304</td>\n",
              "      <td>0.677130</td>\n",
              "      <td>0.379151</td>\n",
              "      <td>0.955301</td>\n",
              "      <td>1.000000</td>\n",
              "      <td>0.799181</td>\n",
              "      <td>-0.075218</td>\n",
              "    </tr>\n",
              "    <tr>\n",
              "      <th>avg_sms_replies</th>\n",
              "      <td>-0.070978</td>\n",
              "      <td>-0.082611</td>\n",
              "      <td>-0.050359</td>\n",
              "      <td>-0.038793</td>\n",
              "      <td>0.122789</td>\n",
              "      <td>0.213352</td>\n",
              "      <td>0.214889</td>\n",
              "      <td>0.240456</td>\n",
              "      <td>0.244097</td>\n",
              "      <td>0.005707</td>\n",
              "      <td>0.237666</td>\n",
              "      <td>0.433443</td>\n",
              "      <td>0.261525</td>\n",
              "      <td>0.716719</td>\n",
              "      <td>0.799181</td>\n",
              "      <td>1.000000</td>\n",
              "      <td>-0.062319</td>\n",
              "    </tr>\n",
              "    <tr>\n",
              "      <th>target</th>\n",
              "      <td>0.048218</td>\n",
              "      <td>0.121939</td>\n",
              "      <td>0.275500</td>\n",
              "      <td>0.166119</td>\n",
              "      <td>-0.235238</td>\n",
              "      <td>-0.032580</td>\n",
              "      <td>-0.025354</td>\n",
              "      <td>-0.117154</td>\n",
              "      <td>-0.128464</td>\n",
              "      <td>0.005954</td>\n",
              "      <td>-0.076783</td>\n",
              "      <td>-0.021826</td>\n",
              "      <td>0.014593</td>\n",
              "      <td>-0.070678</td>\n",
              "      <td>-0.075218</td>\n",
              "      <td>-0.062319</td>\n",
              "      <td>1.000000</td>\n",
              "    </tr>\n",
              "  </tbody>\n",
              "</table>\n",
              "</div>"
            ],
            "text/plain": [
              "                        user_id  account_id  ...  avg_sms_replies    target\n",
              "user_id                1.000000    0.056700  ...        -0.070978  0.048218\n",
              "account_id             0.056700    1.000000  ...        -0.082611  0.121939\n",
              "max_return_days        0.028626    0.186045  ...        -0.050359  0.275500\n",
              "average_return_days    0.027063    0.114084  ...        -0.038793  0.166119\n",
              "customer_since_months -0.181671   -0.138623  ...         0.122789 -0.235238\n",
              "total_revenue         -0.033228   -0.056088  ...         0.213352 -0.032580\n",
              "average_revenue       -0.016299   -0.063251  ...         0.214889 -0.025354\n",
              "avg_vas_count         -0.101715   -0.123744  ...         0.240456 -0.117154\n",
              "avg_used_vas_value    -0.113532   -0.137692  ...         0.244097 -0.128464\n",
              "business_type          0.042191   -0.023560  ...         0.005707  0.005954\n",
              "avg_wallet_bonus      -0.096223   -0.115246  ...         0.237666 -0.076783\n",
              "avg_active_ads        -0.061172   -0.104818  ...         0.433443 -0.021826\n",
              "avg_new_ads           -0.003543   -0.049433  ...         0.261525  0.014593\n",
              "avg_email_replies     -0.105052   -0.111508  ...         0.716719 -0.070678\n",
              "avg_call_replies      -0.098219   -0.115326  ...         0.799181 -0.075218\n",
              "avg_sms_replies       -0.070978   -0.082611  ...         1.000000 -0.062319\n",
              "target                 0.048218    0.121939  ...        -0.062319  1.000000\n",
              "\n",
              "[17 rows x 17 columns]"
            ]
          },
          "metadata": {
            "tags": []
          },
          "execution_count": 13
        }
      ]
    },
    {
      "cell_type": "code",
      "metadata": {
        "id": "YuuCsuOgmd-p",
        "outputId": "8a2f3234-3216-421b-a2ca-a0dc890fbd0f",
        "colab": {
          "base_uri": "https://localhost:8080/",
          "height": 397
        }
      },
      "source": [
        "sns.heatmap(dataset1.corr())"
      ],
      "execution_count": 14,
      "outputs": [
        {
          "output_type": "execute_result",
          "data": {
            "text/plain": [
              "<matplotlib.axes._subplots.AxesSubplot at 0x7fa493fc9b00>"
            ]
          },
          "metadata": {
            "tags": []
          },
          "execution_count": 14
        },
        {
          "output_type": "display_data",
          "data": {
            "image/png": "[encoded data removed]",
            "text/plain": [
              "<Figure size 432x288 with 2 Axes>"
            ]
          },
          "metadata": {
            "tags": [],
            "needs_background": "light"
          }
        }
      ]
    },
    {
      "cell_type": "code",
      "metadata": {
        "id": "xWjUVCUYCuQs",
        "outputId": "ff490bb7-c73e-40f8-9389-65bb73302c38",
        "colab": {
          "base_uri": "https://localhost:8080/",
          "height": 280
        }
      },
      "source": [
        "sns.countplot(x = 'customer_since_months', data = dataset1);"
      ],
      "execution_count": 15,
      "outputs": [
        {
          "output_type": "display_data",
          "data": {
            "image/png": "[encoded data removed]",
            "text/plain": [
              "<Figure size 432x288 with 1 Axes>"
            ]
          },
          "metadata": {
            "tags": [],
            "needs_background": "light"
          }
        }
      ]
    },
    {
      "cell_type": "code",
      "metadata": {
        "id": "tZ2OS8e5jVSb",
        "outputId": "9965b795-baba-470d-b12e-c75b0de063c7",
        "colab": {
          "base_uri": "https://localhost:8080/",
          "height": 280
        }
      },
      "source": [
        "sns.countplot(x = 'business_type', data = dataset1);"
      ],
      "execution_count": 16,
      "outputs": [
        {
          "output_type": "display_data",
          "data": {
            "image/png": "[encoded data removed]",
            "text/plain": [
              "<Figure size 432x288 with 1 Axes>"
            ]
          },
          "metadata": {
            "tags": [],
            "needs_background": "light"
          }
        }
      ]
    },
    {
      "cell_type": "code",
      "metadata": {
        "id": "pBfLoLSEpKJk",
        "outputId": "4e9b619a-7ff3-4765-d324-f274838b62aa",
        "colab": {
          "base_uri": "https://localhost:8080/",
          "height": 279
        }
      },
      "source": [
        "sns.countplot(x = 'target', data = dataset1);"
      ],
      "execution_count": 17,
      "outputs": [
        {
          "output_type": "display_data",
          "data": {
            "image/png": "[encoded data removed]",
            "text/plain": [
              "<Figure size 432x288 with 1 Axes>"
            ]
          },
          "metadata": {
            "tags": [],
            "needs_background": "light"
          }
        }
      ]
    },
    {
      "cell_type": "code",
      "metadata": {
        "id": "lEc25iHqk3k-",
        "outputId": "1470ea13-842f-4116-a10a-aa9344e534b5",
        "colab": {
          "base_uri": "https://localhost:8080/",
          "height": 280
        }
      },
      "source": [
        "sns.countplot(x = 'customer_since_months',hue='target', data = dataset1);"
      ],
      "execution_count": 18,
      "outputs": [
        {
          "output_type": "display_data",
          "data": {
            "image/png": "[encoded data removed]",
            "text/plain": [
              "<Figure size 432x288 with 1 Axes>"
            ]
          },
          "metadata": {
            "tags": [],
            "needs_background": "light"
          }
        }
      ]
    },
    {
      "cell_type": "code",
      "metadata": {
        "id": "eSbUoHtolgkQ",
        "outputId": "20381490-9f78-4e0e-eeb0-d9d4dc49f64c",
        "colab": {
          "base_uri": "https://localhost:8080/",
          "height": 309
        }
      },
      "source": [
        "#dropping the useless feature\n",
        "columns_to_drop = ['user_id','account_id','avg_email_replies','avg_call_replies',\n",
        "                   'avg_sms_replies']\n",
        "\n",
        "dataset1.drop(columns_to_drop, axis = 1 ,inplace = True)\n",
        "dataset1.head()"
      ],
      "execution_count": 19,
      "outputs": [
        {
          "output_type": "stream",
          "text": [
            "/usr/local/lib/python3.6/dist-packages/pandas/core/frame.py:4170: SettingWithCopyWarning: \n",
            "A value is trying to be set on a copy of a slice from a DataFrame\n",
            "\n",
            "See the caveats in the documentation: https://pandas.pydata.org/pandas-docs/stable/user_guide/indexing.html#returning-a-view-versus-a-copy\n",
            "  errors=errors,\n"
          ],
          "name": "stderr"
        },
        {
          "output_type": "execute_result",
          "data": {
            "text/html": [
              "<div>\n",
              "<style scoped>\n",
              "    .dataframe tbody tr th:only-of-type {\n",
              "        vertical-align: middle;\n",
              "    }\n",
              "\n",
              "    .dataframe tbody tr th {\n",
              "        vertical-align: top;\n",
              "    }\n",
              "\n",
              "    .dataframe thead th {\n",
              "        text-align: right;\n",
              "    }\n",
              "</style>\n",
              "<table border=\"1\" class=\"dataframe\">\n",
              "  <thead>\n",
              "    <tr style=\"text-align: right;\">\n",
              "      <th></th>\n",
              "      <th>max_return_days</th>\n",
              "      <th>average_return_days</th>\n",
              "      <th>customer_since_months</th>\n",
              "      <th>total_revenue</th>\n",
              "      <th>average_revenue</th>\n",
              "      <th>avg_vas_count</th>\n",
              "      <th>avg_used_vas_value</th>\n",
              "      <th>business_type</th>\n",
              "      <th>avg_wallet_bonus</th>\n",
              "      <th>avg_active_ads</th>\n",
              "      <th>avg_new_ads</th>\n",
              "      <th>target</th>\n",
              "    </tr>\n",
              "  </thead>\n",
              "  <tbody>\n",
              "    <tr>\n",
              "      <th>0</th>\n",
              "      <td>8</td>\n",
              "      <td>1.500000</td>\n",
              "      <td>14</td>\n",
              "      <td>0.0</td>\n",
              "      <td>0.0</td>\n",
              "      <td>3.666667</td>\n",
              "      <td>66.666667</td>\n",
              "      <td>0</td>\n",
              "      <td>300.0</td>\n",
              "      <td>79.333333</td>\n",
              "      <td>15.250000</td>\n",
              "      <td>0</td>\n",
              "    </tr>\n",
              "    <tr>\n",
              "      <th>1</th>\n",
              "      <td>37</td>\n",
              "      <td>8.200000</td>\n",
              "      <td>10</td>\n",
              "      <td>0.0</td>\n",
              "      <td>0.0</td>\n",
              "      <td>4.900000</td>\n",
              "      <td>114.000000</td>\n",
              "      <td>0</td>\n",
              "      <td>0.0</td>\n",
              "      <td>232.100000</td>\n",
              "      <td>18.300000</td>\n",
              "      <td>0</td>\n",
              "    </tr>\n",
              "    <tr>\n",
              "      <th>2</th>\n",
              "      <td>9</td>\n",
              "      <td>1.533333</td>\n",
              "      <td>15</td>\n",
              "      <td>0.0</td>\n",
              "      <td>0.0</td>\n",
              "      <td>5.333333</td>\n",
              "      <td>106.666667</td>\n",
              "      <td>0</td>\n",
              "      <td>150.0</td>\n",
              "      <td>55.083333</td>\n",
              "      <td>3.750000</td>\n",
              "      <td>0</td>\n",
              "    </tr>\n",
              "    <tr>\n",
              "      <th>3</th>\n",
              "      <td>1</td>\n",
              "      <td>1.000000</td>\n",
              "      <td>14</td>\n",
              "      <td>0.0</td>\n",
              "      <td>0.0</td>\n",
              "      <td>6.307692</td>\n",
              "      <td>176.153846</td>\n",
              "      <td>0</td>\n",
              "      <td>1481.0</td>\n",
              "      <td>409.538462</td>\n",
              "      <td>80.769231</td>\n",
              "      <td>1</td>\n",
              "    </tr>\n",
              "    <tr>\n",
              "      <th>4</th>\n",
              "      <td>1</td>\n",
              "      <td>1.000000</td>\n",
              "      <td>18</td>\n",
              "      <td>0.0</td>\n",
              "      <td>0.0</td>\n",
              "      <td>5.846154</td>\n",
              "      <td>109.230769</td>\n",
              "      <td>0</td>\n",
              "      <td>41.5</td>\n",
              "      <td>48.230769</td>\n",
              "      <td>1.692308</td>\n",
              "      <td>0</td>\n",
              "    </tr>\n",
              "  </tbody>\n",
              "</table>\n",
              "</div>"
            ],
            "text/plain": [
              "   max_return_days  average_return_days  ...  avg_new_ads  target\n",
              "0                8             1.500000  ...    15.250000       0\n",
              "1               37             8.200000  ...    18.300000       0\n",
              "2                9             1.533333  ...     3.750000       0\n",
              "3                1             1.000000  ...    80.769231       1\n",
              "4                1             1.000000  ...     1.692308       0\n",
              "\n",
              "[5 rows x 12 columns]"
            ]
          },
          "metadata": {
            "tags": []
          },
          "execution_count": 19
        }
      ]
    },
    {
      "cell_type": "code",
      "metadata": {
        "id": "oZhgbJ3oo4RC",
        "outputId": "890c894b-59ef-4fff-82bd-4b71c2ff2254",
        "colab": {
          "base_uri": "https://localhost:8080/",
          "height": 238
        }
      },
      "source": [
        "dataset1.nunique()"
      ],
      "execution_count": 20,
      "outputs": [
        {
          "output_type": "execute_result",
          "data": {
            "text/plain": [
              "max_return_days           229\n",
              "average_return_days       917\n",
              "customer_since_months      23\n",
              "total_revenue             434\n",
              "average_revenue           510\n",
              "avg_vas_count             677\n",
              "avg_used_vas_value       1027\n",
              "business_type               6\n",
              "avg_wallet_bonus          989\n",
              "avg_active_ads           2755\n",
              "avg_new_ads              1421\n",
              "target                      2\n",
              "dtype: int64"
            ]
          },
          "metadata": {
            "tags": []
          },
          "execution_count": 20
        }
      ]
    },
    {
      "cell_type": "markdown",
      "metadata": {
        "id": "PQLXElo6xXoN"
      },
      "source": [
        "## **Training the classifier**"
      ]
    },
    {
      "cell_type": "code",
      "metadata": {
        "id": "-jfL1LH6plhw",
        "outputId": "ba9e6e32-cd7a-47cc-8094-e6e92e4067ce",
        "colab": {
          "base_uri": "https://localhost:8080/",
          "height": 224
        }
      },
      "source": [
        "data = pd.DataFrame(dataset1)\n",
        "data.head()"
      ],
      "execution_count": 21,
      "outputs": [
        {
          "output_type": "execute_result",
          "data": {
            "text/html": [
              "<div>\n",
              "<style scoped>\n",
              "    .dataframe tbody tr th:only-of-type {\n",
              "        vertical-align: middle;\n",
              "    }\n",
              "\n",
              "    .dataframe tbody tr th {\n",
              "        vertical-align: top;\n",
              "    }\n",
              "\n",
              "    .dataframe thead th {\n",
              "        text-align: right;\n",
              "    }\n",
              "</style>\n",
              "<table border=\"1\" class=\"dataframe\">\n",
              "  <thead>\n",
              "    <tr style=\"text-align: right;\">\n",
              "      <th></th>\n",
              "      <th>max_return_days</th>\n",
              "      <th>average_return_days</th>\n",
              "      <th>customer_since_months</th>\n",
              "      <th>total_revenue</th>\n",
              "      <th>average_revenue</th>\n",
              "      <th>avg_vas_count</th>\n",
              "      <th>avg_used_vas_value</th>\n",
              "      <th>business_type</th>\n",
              "      <th>avg_wallet_bonus</th>\n",
              "      <th>avg_active_ads</th>\n",
              "      <th>avg_new_ads</th>\n",
              "      <th>target</th>\n",
              "    </tr>\n",
              "  </thead>\n",
              "  <tbody>\n",
              "    <tr>\n",
              "      <th>0</th>\n",
              "      <td>8</td>\n",
              "      <td>1.500000</td>\n",
              "      <td>14</td>\n",
              "      <td>0.0</td>\n",
              "      <td>0.0</td>\n",
              "      <td>3.666667</td>\n",
              "      <td>66.666667</td>\n",
              "      <td>0</td>\n",
              "      <td>300.0</td>\n",
              "      <td>79.333333</td>\n",
              "      <td>15.250000</td>\n",
              "      <td>0</td>\n",
              "    </tr>\n",
              "    <tr>\n",
              "      <th>1</th>\n",
              "      <td>37</td>\n",
              "      <td>8.200000</td>\n",
              "      <td>10</td>\n",
              "      <td>0.0</td>\n",
              "      <td>0.0</td>\n",
              "      <td>4.900000</td>\n",
              "      <td>114.000000</td>\n",
              "      <td>0</td>\n",
              "      <td>0.0</td>\n",
              "      <td>232.100000</td>\n",
              "      <td>18.300000</td>\n",
              "      <td>0</td>\n",
              "    </tr>\n",
              "    <tr>\n",
              "      <th>2</th>\n",
              "      <td>9</td>\n",
              "      <td>1.533333</td>\n",
              "      <td>15</td>\n",
              "      <td>0.0</td>\n",
              "      <td>0.0</td>\n",
              "      <td>5.333333</td>\n",
              "      <td>106.666667</td>\n",
              "      <td>0</td>\n",
              "      <td>150.0</td>\n",
              "      <td>55.083333</td>\n",
              "      <td>3.750000</td>\n",
              "      <td>0</td>\n",
              "    </tr>\n",
              "    <tr>\n",
              "      <th>3</th>\n",
              "      <td>1</td>\n",
              "      <td>1.000000</td>\n",
              "      <td>14</td>\n",
              "      <td>0.0</td>\n",
              "      <td>0.0</td>\n",
              "      <td>6.307692</td>\n",
              "      <td>176.153846</td>\n",
              "      <td>0</td>\n",
              "      <td>1481.0</td>\n",
              "      <td>409.538462</td>\n",
              "      <td>80.769231</td>\n",
              "      <td>1</td>\n",
              "    </tr>\n",
              "    <tr>\n",
              "      <th>4</th>\n",
              "      <td>1</td>\n",
              "      <td>1.000000</td>\n",
              "      <td>18</td>\n",
              "      <td>0.0</td>\n",
              "      <td>0.0</td>\n",
              "      <td>5.846154</td>\n",
              "      <td>109.230769</td>\n",
              "      <td>0</td>\n",
              "      <td>41.5</td>\n",
              "      <td>48.230769</td>\n",
              "      <td>1.692308</td>\n",
              "      <td>0</td>\n",
              "    </tr>\n",
              "  </tbody>\n",
              "</table>\n",
              "</div>"
            ],
            "text/plain": [
              "   max_return_days  average_return_days  ...  avg_new_ads  target\n",
              "0                8             1.500000  ...    15.250000       0\n",
              "1               37             8.200000  ...    18.300000       0\n",
              "2                9             1.533333  ...     3.750000       0\n",
              "3                1             1.000000  ...    80.769231       1\n",
              "4                1             1.000000  ...     1.692308       0\n",
              "\n",
              "[5 rows x 12 columns]"
            ]
          },
          "metadata": {
            "tags": []
          },
          "execution_count": 21
        }
      ]
    },
    {
      "cell_type": "code",
      "metadata": {
        "id": "5XZqlOrtwmcZ",
        "outputId": "e17fa08d-1f7d-4fd8-c34b-10359e6eeb57",
        "colab": {
          "base_uri": "https://localhost:8080/",
          "height": 102
        }
      },
      "source": [
        "print(data.columns)"
      ],
      "execution_count": 22,
      "outputs": [
        {
          "output_type": "stream",
          "text": [
            "Index(['max_return_days', 'average_return_days', 'customer_since_months',\n",
            "       'total_revenue', 'average_revenue', 'avg_vas_count',\n",
            "       'avg_used_vas_value', 'business_type', 'avg_wallet_bonus',\n",
            "       'avg_active_ads', 'avg_new_ads', 'target'],\n",
            "      dtype='object')\n"
          ],
          "name": "stdout"
        }
      ]
    },
    {
      "cell_type": "code",
      "metadata": {
        "id": "dJ3fteSHwuQu",
        "outputId": "43f1d6c7-699c-4f59-e16b-82b68a45492e",
        "colab": {
          "base_uri": "https://localhost:8080/",
          "height": 340
        }
      },
      "source": [
        "data.info()"
      ],
      "execution_count": 23,
      "outputs": [
        {
          "output_type": "stream",
          "text": [
            "<class 'pandas.core.frame.DataFrame'>\n",
            "Int64Index: 4400 entries, 0 to 4406\n",
            "Data columns (total 12 columns):\n",
            " #   Column                 Non-Null Count  Dtype  \n",
            "---  ------                 --------------  -----  \n",
            " 0   max_return_days        4400 non-null   int64  \n",
            " 1   average_return_days    4400 non-null   float64\n",
            " 2   customer_since_months  4400 non-null   int64  \n",
            " 3   total_revenue          4400 non-null   float64\n",
            " 4   average_revenue        4400 non-null   float64\n",
            " 5   avg_vas_count          4400 non-null   float64\n",
            " 6   avg_used_vas_value     4400 non-null   float64\n",
            " 7   business_type          4400 non-null   int64  \n",
            " 8   avg_wallet_bonus       4400 non-null   float64\n",
            " 9   avg_active_ads         4400 non-null   float64\n",
            " 10  avg_new_ads            4400 non-null   float64\n",
            " 11  target                 4400 non-null   int64  \n",
            "dtypes: float64(8), int64(4)\n",
            "memory usage: 606.9 KB\n"
          ],
          "name": "stdout"
        }
      ]
    },
    {
      "cell_type": "code",
      "metadata": {
        "id": "rOpK8eM3xwU5",
        "outputId": "c31fd493-f0a3-49c2-aa0f-58d4c7356baf",
        "colab": {
          "base_uri": "https://localhost:8080/",
          "height": 317
        }
      },
      "source": [
        "data.describe()"
      ],
      "execution_count": 24,
      "outputs": [
        {
          "output_type": "execute_result",
          "data": {
            "text/html": [
              "<div>\n",
              "<style scoped>\n",
              "    .dataframe tbody tr th:only-of-type {\n",
              "        vertical-align: middle;\n",
              "    }\n",
              "\n",
              "    .dataframe tbody tr th {\n",
              "        vertical-align: top;\n",
              "    }\n",
              "\n",
              "    .dataframe thead th {\n",
              "        text-align: right;\n",
              "    }\n",
              "</style>\n",
              "<table border=\"1\" class=\"dataframe\">\n",
              "  <thead>\n",
              "    <tr style=\"text-align: right;\">\n",
              "      <th></th>\n",
              "      <th>max_return_days</th>\n",
              "      <th>average_return_days</th>\n",
              "      <th>customer_since_months</th>\n",
              "      <th>total_revenue</th>\n",
              "      <th>average_revenue</th>\n",
              "      <th>avg_vas_count</th>\n",
              "      <th>avg_used_vas_value</th>\n",
              "      <th>business_type</th>\n",
              "      <th>avg_wallet_bonus</th>\n",
              "      <th>avg_active_ads</th>\n",
              "      <th>avg_new_ads</th>\n",
              "      <th>target</th>\n",
              "    </tr>\n",
              "  </thead>\n",
              "  <tbody>\n",
              "    <tr>\n",
              "      <th>count</th>\n",
              "      <td>4400.000000</td>\n",
              "      <td>4400.000000</td>\n",
              "      <td>4400.000000</td>\n",
              "      <td>4400.000000</td>\n",
              "      <td>4400.000000</td>\n",
              "      <td>4400.000000</td>\n",
              "      <td>4400.000000</td>\n",
              "      <td>4400.000000</td>\n",
              "      <td>4400.000000</td>\n",
              "      <td>4400.000000</td>\n",
              "      <td>4400.000000</td>\n",
              "      <td>4400.000000</td>\n",
              "    </tr>\n",
              "    <tr>\n",
              "      <th>mean</th>\n",
              "      <td>22.362500</td>\n",
              "      <td>7.174561</td>\n",
              "      <td>9.884545</td>\n",
              "      <td>194.439208</td>\n",
              "      <td>16.969570</td>\n",
              "      <td>3.253853</td>\n",
              "      <td>72.217150</td>\n",
              "      <td>0.496591</td>\n",
              "      <td>339.299218</td>\n",
              "      <td>98.992841</td>\n",
              "      <td>16.768863</td>\n",
              "      <td>0.103182</td>\n",
              "    </tr>\n",
              "    <tr>\n",
              "      <th>std</th>\n",
              "      <td>43.618703</td>\n",
              "      <td>19.219665</td>\n",
              "      <td>5.163509</td>\n",
              "      <td>1549.573607</td>\n",
              "      <td>128.369056</td>\n",
              "      <td>5.512943</td>\n",
              "      <td>117.082250</td>\n",
              "      <td>1.198236</td>\n",
              "      <td>832.312947</td>\n",
              "      <td>297.898133</td>\n",
              "      <td>67.975094</td>\n",
              "      <td>0.304231</td>\n",
              "    </tr>\n",
              "    <tr>\n",
              "      <th>min</th>\n",
              "      <td>1.000000</td>\n",
              "      <td>0.500000</td>\n",
              "      <td>1.000000</td>\n",
              "      <td>0.000000</td>\n",
              "      <td>0.000000</td>\n",
              "      <td>0.000000</td>\n",
              "      <td>0.000000</td>\n",
              "      <td>0.000000</td>\n",
              "      <td>0.000000</td>\n",
              "      <td>0.000000</td>\n",
              "      <td>0.000000</td>\n",
              "      <td>0.000000</td>\n",
              "    </tr>\n",
              "    <tr>\n",
              "      <th>25%</th>\n",
              "      <td>1.000000</td>\n",
              "      <td>1.000000</td>\n",
              "      <td>5.000000</td>\n",
              "      <td>0.000000</td>\n",
              "      <td>0.000000</td>\n",
              "      <td>0.153846</td>\n",
              "      <td>2.964286</td>\n",
              "      <td>0.000000</td>\n",
              "      <td>0.000000</td>\n",
              "      <td>13.538462</td>\n",
              "      <td>2.500000</td>\n",
              "      <td>0.000000</td>\n",
              "    </tr>\n",
              "    <tr>\n",
              "      <th>50%</th>\n",
              "      <td>2.000000</td>\n",
              "      <td>1.076923</td>\n",
              "      <td>12.000000</td>\n",
              "      <td>0.000000</td>\n",
              "      <td>0.000000</td>\n",
              "      <td>2.000000</td>\n",
              "      <td>45.000000</td>\n",
              "      <td>0.000000</td>\n",
              "      <td>41.500000</td>\n",
              "      <td>40.000000</td>\n",
              "      <td>6.333333</td>\n",
              "      <td>0.000000</td>\n",
              "    </tr>\n",
              "    <tr>\n",
              "      <th>75%</th>\n",
              "      <td>30.000000</td>\n",
              "      <td>5.666667</td>\n",
              "      <td>14.000000</td>\n",
              "      <td>0.000000</td>\n",
              "      <td>0.000000</td>\n",
              "      <td>4.358766</td>\n",
              "      <td>100.000000</td>\n",
              "      <td>0.000000</td>\n",
              "      <td>328.275000</td>\n",
              "      <td>101.333333</td>\n",
              "      <td>14.250000</td>\n",
              "      <td>0.000000</td>\n",
              "    </tr>\n",
              "    <tr>\n",
              "      <th>max</th>\n",
              "      <td>354.000000</td>\n",
              "      <td>354.000000</td>\n",
              "      <td>24.000000</td>\n",
              "      <td>43957.172700</td>\n",
              "      <td>3852.727273</td>\n",
              "      <td>156.583333</td>\n",
              "      <td>3357.500000</td>\n",
              "      <td>5.000000</td>\n",
              "      <td>15606.500000</td>\n",
              "      <td>9183.866667</td>\n",
              "      <td>2606.000000</td>\n",
              "      <td>1.000000</td>\n",
              "    </tr>\n",
              "  </tbody>\n",
              "</table>\n",
              "</div>"
            ],
            "text/plain": [
              "       max_return_days  average_return_days  ...  avg_new_ads       target\n",
              "count      4400.000000          4400.000000  ...  4400.000000  4400.000000\n",
              "mean         22.362500             7.174561  ...    16.768863     0.103182\n",
              "std          43.618703            19.219665  ...    67.975094     0.304231\n",
              "min           1.000000             0.500000  ...     0.000000     0.000000\n",
              "25%           1.000000             1.000000  ...     2.500000     0.000000\n",
              "50%           2.000000             1.076923  ...     6.333333     0.000000\n",
              "75%          30.000000             5.666667  ...    14.250000     0.000000\n",
              "max         354.000000           354.000000  ...  2606.000000     1.000000\n",
              "\n",
              "[8 rows x 12 columns]"
            ]
          },
          "metadata": {
            "tags": []
          },
          "execution_count": 24
        }
      ]
    },
    {
      "cell_type": "code",
      "metadata": {
        "id": "TWfBFNfVxzst"
      },
      "source": [
        "import xgboost as xgb\n",
        "from sklearn.metrics import mean_squared_error\n"
      ],
      "execution_count": 25,
      "outputs": []
    },
    {
      "cell_type": "code",
      "metadata": {
        "id": "DjPOXsvKyIqd"
      },
      "source": [
        "X, y = data.iloc[:,:-1] , data.iloc[:,-1]"
      ],
      "execution_count": 26,
      "outputs": []
    },
    {
      "cell_type": "code",
      "metadata": {
        "id": "DpwSExObyUvQ"
      },
      "source": [
        "data_matrix = xgb.DMatrix(data = X, label = y)"
      ],
      "execution_count": 27,
      "outputs": []
    },
    {
      "cell_type": "code",
      "metadata": {
        "id": "adFTxNFdykSQ"
      },
      "source": [
        "from sklearn.model_selection import train_test_split\n",
        "\n",
        "X_train, X_test, y_train, y_test = train_test_split(X, y, test_size = 0.2, random_state = 123)"
      ],
      "execution_count": 28,
      "outputs": []
    },
    {
      "cell_type": "code",
      "metadata": {
        "id": "cYD5pO33zXGq"
      },
      "source": [
        "xg_reg = xgb.XGBRegressor(objective= 'reg:squarederror', colsample_bytree=0.3, learning_rate=0.1,\n",
        "                          alpha = 10, max_depth = 5, n_estimators = 10  )"
      ],
      "execution_count": 29,
      "outputs": []
    },
    {
      "cell_type": "code",
      "metadata": {
        "id": "S8ClHQsWz4WD"
      },
      "source": [
        "xg_reg.fit(X_train,y_train)\n",
        "\n",
        "preds = xg_reg.predict(X_test)"
      ],
      "execution_count": 30,
      "outputs": []
    },
    {
      "cell_type": "code",
      "metadata": {
        "id": "IEhna4Mf0qjO",
        "outputId": "7df2f13b-54b1-41cd-d9f5-9eb616797fba",
        "colab": {
          "base_uri": "https://localhost:8080/",
          "height": 34
        }
      },
      "source": [
        "rmse = np.sqrt(mean_squared_error(y_test, preds))\n",
        "print(\"RMSE: %f\" % (rmse))"
      ],
      "execution_count": 31,
      "outputs": [
        {
          "output_type": "stream",
          "text": [
            "RMSE: 0.318091\n"
          ],
          "name": "stdout"
        }
      ]
    },
    {
      "cell_type": "code",
      "metadata": {
        "id": "eNYQiteM08Pi"
      },
      "source": [
        "params = {\"objective\" : \"reg:squarederror\", \"colsample_bytree\" : 0.3, \"learning_rate\" : 0.1,\n",
        "          \"max_depth\" : 5, \"alpha\" : 10}\n",
        "\n",
        "cv_results = xgb.cv(dtrain = data_matrix, params = params, nfold = 3,\n",
        "                    num_boost_round = 50, early_stopping_rounds = 10, metrics = \"rmse\",as_pandas =True, seed = 123 )"
      ],
      "execution_count": 33,
      "outputs": []
    },
    {
      "cell_type": "code",
      "metadata": {
        "id": "OC_XWqzycRtb",
        "outputId": "c039f6bb-7383-44ed-d131-d51ec6649c05",
        "colab": {
          "base_uri": "https://localhost:8080/",
          "height": 204
        }
      },
      "source": [
        "cv_results.head()"
      ],
      "execution_count": 34,
      "outputs": [
        {
          "output_type": "execute_result",
          "data": {
            "text/html": [
              "<div>\n",
              "<style scoped>\n",
              "    .dataframe tbody tr th:only-of-type {\n",
              "        vertical-align: middle;\n",
              "    }\n",
              "\n",
              "    .dataframe tbody tr th {\n",
              "        vertical-align: top;\n",
              "    }\n",
              "\n",
              "    .dataframe thead th {\n",
              "        text-align: right;\n",
              "    }\n",
              "</style>\n",
              "<table border=\"1\" class=\"dataframe\">\n",
              "  <thead>\n",
              "    <tr style=\"text-align: right;\">\n",
              "      <th></th>\n",
              "      <th>train-rmse-mean</th>\n",
              "      <th>train-rmse-std</th>\n",
              "      <th>test-rmse-mean</th>\n",
              "      <th>test-rmse-std</th>\n",
              "    </tr>\n",
              "  </thead>\n",
              "  <tbody>\n",
              "    <tr>\n",
              "      <th>0</th>\n",
              "      <td>0.468143</td>\n",
              "      <td>0.000635</td>\n",
              "      <td>0.468227</td>\n",
              "      <td>0.000401</td>\n",
              "    </tr>\n",
              "    <tr>\n",
              "      <th>1</th>\n",
              "      <td>0.440088</td>\n",
              "      <td>0.001045</td>\n",
              "      <td>0.440440</td>\n",
              "      <td>0.001197</td>\n",
              "    </tr>\n",
              "    <tr>\n",
              "      <th>2</th>\n",
              "      <td>0.416115</td>\n",
              "      <td>0.001578</td>\n",
              "      <td>0.416656</td>\n",
              "      <td>0.002133</td>\n",
              "    </tr>\n",
              "    <tr>\n",
              "      <th>3</th>\n",
              "      <td>0.395464</td>\n",
              "      <td>0.002651</td>\n",
              "      <td>0.396307</td>\n",
              "      <td>0.002835</td>\n",
              "    </tr>\n",
              "    <tr>\n",
              "      <th>4</th>\n",
              "      <td>0.377649</td>\n",
              "      <td>0.003265</td>\n",
              "      <td>0.378712</td>\n",
              "      <td>0.003581</td>\n",
              "    </tr>\n",
              "  </tbody>\n",
              "</table>\n",
              "</div>"
            ],
            "text/plain": [
              "   train-rmse-mean  train-rmse-std  test-rmse-mean  test-rmse-std\n",
              "0         0.468143        0.000635        0.468227       0.000401\n",
              "1         0.440088        0.001045        0.440440       0.001197\n",
              "2         0.416115        0.001578        0.416656       0.002133\n",
              "3         0.395464        0.002651        0.396307       0.002835\n",
              "4         0.377649        0.003265        0.378712       0.003581"
            ]
          },
          "metadata": {
            "tags": []
          },
          "execution_count": 34
        }
      ]
    },
    {
      "cell_type": "code",
      "metadata": {
        "id": "pIGcSN5xcYgh",
        "outputId": "854c02ea-a7a7-447b-de88-d82b6af37397",
        "colab": {
          "base_uri": "https://localhost:8080/",
          "height": 51
        }
      },
      "source": [
        "#printing the final boosting round metric\n",
        "print((cv_results[\"test-rmse-mean\"]).tail(1))"
      ],
      "execution_count": 37,
      "outputs": [
        {
          "output_type": "stream",
          "text": [
            "49    0.275265\n",
            "Name: test-rmse-mean, dtype: float64\n"
          ],
          "name": "stdout"
        }
      ]
    },
    {
      "cell_type": "markdown",
      "metadata": {
        "id": "IVz78Rprdez_"
      },
      "source": [
        "## **Visualizing Boosting Trees and Feature Importance**"
      ]
    },
    {
      "cell_type": "code",
      "metadata": {
        "id": "Y5UsQb7Fc_E7"
      },
      "source": [
        "xg_reg = xgb.train(params = params, dtrain= data_matrix, num_boost_round = 10)"
      ],
      "execution_count": 38,
      "outputs": []
    },
    {
      "cell_type": "code",
      "metadata": {
        "id": "r55Xin3hdWyw",
        "outputId": "4b6d0cbe-3b39-4fd2-a6ba-17baad1f7c87",
        "colab": {
          "base_uri": "https://localhost:8080/",
          "height": 361
        }
      },
      "source": [
        "#plotting the first tree using matplotlib library\n",
        "\n",
        "xgb.plot_tree(xg_reg, num_trees=0)\n",
        "plt.rcParams['figure.figsize'] = [50,20]\n",
        "plt.show()"
      ],
      "execution_count": 49,
      "outputs": [
        {
          "output_type": "display_data",
          "data": {
            "image/png": "[encoded data removed]",
            "text/plain": [
              "<Figure size 576x576 with 1 Axes>"
            ]
          },
          "metadata": {
            "tags": [],
            "needs_background": "light"
          }
        }
      ]
    },
    {
      "cell_type": "code",
      "metadata": {
        "id": "JtPsHYyoeRP5",
        "outputId": "f6ec8986-9115-442a-c28e-bc96660b66cf",
        "colab": {
          "base_uri": "https://localhost:8080/",
          "height": 458
        }
      },
      "source": [
        "xgb.plot_importance(xg_reg)\n",
        "plt.rcParams['figure.figsize'] = [8,8]\n",
        "plt.show()"
      ],
      "execution_count": 48,
      "outputs": [
        {
          "output_type": "display_data",
          "data": {
            "image/png": "[encoded data removed]",
            "text/plain": [
              "<Figure size 576x504 with 1 Axes>"
            ]
          },
          "metadata": {
            "tags": [],
            "needs_background": "light"
          }
        }
      ]
    },
    {
      "cell_type": "markdown",
      "metadata": {
        "id": "pJpLojiwfeoY"
      },
      "source": [
        "The feature **max_return_days** has been given the highest importance score among all the features."
      ]
    },
    {
      "cell_type": "code",
      "metadata": {
        "id": "3mQQVAjFencR"
      },
      "source": [
        ""
      ],
      "execution_count": null,
      "outputs": []
    }
  ]
}